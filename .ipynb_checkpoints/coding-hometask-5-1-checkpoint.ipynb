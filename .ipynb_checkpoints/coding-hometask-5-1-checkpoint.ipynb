{
 "cells": [
  {
   "cell_type": "markdown",
   "metadata": {
    "deletable": true,
    "editable": true
   },
   "source": [
    "## Задача 5-1. A\\* поиск в задаче о кратчайших путях.\n",
    "\n",
    "В этой задаче Вам предлагается реализовать поиск кратчайших путей в графе с помощью A\\*-поиска с использованием эвристической функции («потенциала»), основанном на landmarks. Теоретические основы можно посмотреть [здесь](http://logic.pdmi.ras.ru/midas/sites/default/files/midas-werneck.pdf), слайды 20—36.\n",
    "\n",
    "Вам предлагается скачать [отсюда](http://www.diag.uniroma1.it/challenge9/download.shtml) файлы “Travel time graph” и “Coordinates” для штата Флорида. Для Вашего удобства они также размещены в архиве `florida.7z` в настоящем репозитории на GitHub.\n",
    "\n",
    "Функции `read_node_coords` и `read_arcs` возвращают соответственно координаты вершин графа (отнормированные; координаты нужны только для обеспечения возможности выбора landmarks “по периметру графа”) и структура дуг графа."
   ]
  },
  {
   "cell_type": "code",
   "execution_count": 13,
   "metadata": {
    "collapsed": false,
    "deletable": true,
    "editable": true
   },
   "outputs": [],
   "source": [
    "import math\n",
    "from typing import List, Dict, Tuple\n",
    "from collections import namedtuple, defaultdict\n",
    "Coords = namedtuple('Coords', ['x', 'y'])\n",
    "\n",
    "def read_node_coords(filename='coding-hometask-5-1-files/USA-road-d.FLA.co') -> List[int]:\n",
    "    node_coords = []\n",
    "    \n",
    "    with open(filename, 'r') as coord_file:\n",
    "        for line in coord_file:\n",
    "            if line.startswith('v '):\n",
    "                node_number, x, y = map(int, line.split()[1:])\n",
    "                node_coords.append(Coords(x, y))\n",
    "    \n",
    "    minx = min(c.x for c in node_coords)\n",
    "    miny = min(c.y for c in node_coords)\n",
    "    for i, c in enumerate(node_coords):\n",
    "        node_coords[i] = Coords(c.x-minx, c.y-miny)\n",
    "    \n",
    "    return node_coords\n",
    "\n",
    "\n",
    "def read_arcs(filename='coding-hometask-5-1-files/USA-road-t.FLA.gr') -> Dict[int, Dict[int, float]]:\n",
    "    adjacency_lists = defaultdict(dict)\n",
    "    \n",
    "    with open(filename, 'r') as coord_file:\n",
    "        for line in coord_file:\n",
    "            if line.startswith('a '):\n",
    "                node_from, node_to, weight = map(int, line.split()[1:])\n",
    "                adjacency_lists[node_from-1][node_to-1] = weight\n",
    "                \n",
    "    return adjacency_lists"
   ]
  },
  {
   "cell_type": "markdown",
   "metadata": {
    "deletable": true,
    "editable": true
   },
   "source": [
    "Реализуйте процедуру `good_old_dijkstra`, которая для пары номеров вершин графа ищет кратчайший путь между ними и возвращает список номеров вершин, образующих оптимальный путь и его длину."
   ]
  },
  {
   "cell_type": "code",
   "execution_count": 3,
   "metadata": {
    "collapsed": false,
    "deletable": true,
    "editable": true
   },
   "outputs": [],
   "source": [
    "import heapq\n",
    "\n",
    "# В случае node_to=None ищет расстояния до всех вершин графа.\n",
    "def good_old_dijkstra(adjacency_lists, node_from, node_to=None):\n",
    "    parent = {}\n",
    "    dist = {}\n",
    "    visited = {}\n",
    "    \n",
    "    for u in adjacency_lists:\n",
    "        dist[u] = math.inf\n",
    "        parent[u] = -1\n",
    "        visited[u] = False\n",
    "    \n",
    "    dist[node_from] = 0\n",
    "    parent[node_from] = -1\n",
    "    \n",
    "    Q = []\n",
    "    heapq.heappush(Q, (0, node_from))\n",
    "    \n",
    "    while not len(Q) == 0:\n",
    "        u = heapq.heappop(Q)[1]\n",
    "        if u == node_to:\n",
    "            break\n",
    "        if visited[u] == True:\n",
    "            continue\n",
    "            \n",
    "        for v in adjacency_lists[u]:\n",
    "            weight = adjacency_lists[u][v]\n",
    "            if dist[v] > dist[u] + weight:\n",
    "                dist[v] = dist[u] + weight\n",
    "                parent[v] = u\n",
    "                heapq.heappush(Q, (dist[v], v))\n",
    "        visited[u] = True\n",
    "    \n",
    "    if node_to is None:\n",
    "        return dist\n",
    "    \n",
    "    # Восстановим путь.\n",
    "    path = []\n",
    "    if dist[node_to] != math.inf:\n",
    "        node = node_to\n",
    "        path.append(node)\n",
    "        while parent[node] != -1:\n",
    "            node = parent[node]\n",
    "            path.append(node)\n",
    "    path.reverse()\n",
    "    \n",
    "    return (path, dist[node_to])"
   ]
  },
  {
   "cell_type": "markdown",
   "metadata": {
    "deletable": true,
    "editable": true
   },
   "source": [
    "Реализуйте тройку процедур `choose_landmarks`, `precalculate_landmark_distances` и `a_star_with_landmarks`. Процедура `choose_landmarks` выбирает нужное количество специальных вершин графа — этот выбор делается равномерным выбором по периметру графа (см. слайд 30 в [презентации](http://logic.pdmi.ras.ru/midas/sites/default/files/midas-werneck.pdf)). Процедура `precalculate_landmark_distances` для каждой вершины из заданного набора с помощью обычного алгоритма Дейкстры вычисляет расстояния до всех вершин графа. Эта информация затем используется в `a_star_with_landmarks` для ускорения поиска кратчайшего пути."
   ]
  },
  {
   "cell_type": "code",
   "execution_count": 4,
   "metadata": {
    "collapsed": false,
    "deletable": true,
    "editable": true
   },
   "outputs": [],
   "source": [
    "from numpy import arctan2\n",
    "\n",
    "def choose_landmarks(node_coords, num_landmarks=15) -> List[int]:\n",
    "    def vector_props(u, v):\n",
    "        x = v[0] - u[0]\n",
    "        y = v[1] - u[1]\n",
    "        phi = arctan2(x, y)\n",
    "        if phi < 0:\n",
    "            phi += 2 * math.pi\n",
    "        return math.hypot(x, y), phi\n",
    "    \n",
    "    # Обозначим приблизительный центр фигуры.\n",
    "    get_mean = lambda i: sum([u[i] for u in node_coords]) / len(node_coords)\n",
    "    center = Coords(get_mean(0), get_mean(1))\n",
    "    \n",
    "    angles = [2 * math.pi * i / num_landmarks for i in range(num_landmarks)]\n",
    "    sects = [(-1, -1)] * num_landmarks\n",
    "    for i in range(len(node_coords)):\n",
    "        rho, phi = vector_props(center, node_coords[i])\n",
    "        num_sect = int(phi * num_landmarks / (2 * math.pi))\n",
    "        if sects[num_sect][1] < rho:\n",
    "            sects[num_sect] = (i, rho)\n",
    "    \n",
    "    return [sects[i][0] for i in range(num_landmarks)]"
   ]
  },
  {
   "cell_type": "code",
   "execution_count": 5,
   "metadata": {
    "collapsed": false,
    "deletable": true,
    "editable": true
   },
   "outputs": [],
   "source": [
    "def precalculate_landmark_distances(landmarks: List[int],\n",
    "                                    adjacency_lists: Dict[int, Dict[int, float]]) -> Dict[int, Dict[int, float]]:\n",
    "    landmark_dists = {}\n",
    "    for node_from in landmarks:\n",
    "        landmark_dists[node_from] = good_old_dijkstra(adjacency_lists, node_from)\n",
    "    return landmark_dists"
   ]
  },
  {
   "cell_type": "code",
   "execution_count": 17,
   "metadata": {
    "collapsed": false,
    "deletable": true,
    "editable": true
   },
   "outputs": [],
   "source": [
    "def a_star_with_landmarks(adjacency_lists: Dict[int, Dict[int, float]],\n",
    "                          node_from, node_to, landmark_distances: Dict[int, Dict[int, float]]) -> Tuple[List[int], float]:\n",
    "    \n",
    "    # Эвристическая функция.\n",
    "    def heuristic(u):\n",
    "        distance = 0\n",
    "        for l in landmark_distances:\n",
    "            distance = max(distance, abs(landmark_distances[l][node_to] -\n",
    "                                         landmark_distances[l][u]))\n",
    "        return distance\n",
    "    \n",
    "    dist = {}\n",
    "    parent = {}\n",
    "    visited = {}\n",
    "    \n",
    "    for u in adjacency_lists:\n",
    "        dist[u] = math.inf\n",
    "        parent[u] = -1\n",
    "        visited[u] = False\n",
    "    \n",
    "    dist[node_from] = 0\n",
    "    \n",
    "    Q = []\n",
    "    heapq.heappush(Q, (heuristic(node_from), node_from))\n",
    "    \n",
    "    while not len(Q) == 0:\n",
    "        u = heapq.heappop(Q)[1]\n",
    "        if u == node_to:\n",
    "            break\n",
    "        if visited[u] == True:\n",
    "            continue\n",
    "        for v in adjacency_lists[u]:\n",
    "            weight = adjacency_lists[u][v]\n",
    "            if dist[v] > dist[u] + weight:\n",
    "                dist[v] = dist[u] + weight\n",
    "                parent[v] = u\n",
    "                heapq.heappush(Q, (dist[v] + heuristic(v), v))\n",
    "        visited[u] = True\n",
    "    \n",
    "    # Восстановим путь.\n",
    "    path = []\n",
    "    if dist[node_to] != math.inf:\n",
    "        node = node_to\n",
    "        path.append(node)\n",
    "        while parent[node] != -1:\n",
    "            node = parent[node]\n",
    "            path.append(node)\n",
    "    path.reverse()\n",
    "    \n",
    "    return (path, dist[node_to])"
   ]
  },
  {
   "cell_type": "code",
   "execution_count": 22,
   "metadata": {
    "collapsed": true,
    "deletable": true,
    "editable": true
   },
   "outputs": [],
   "source": [
    "import time\n",
    "from random import randrange\n",
    "\n",
    "def run_all():\n",
    "    node_coords = read_node_coords()\n",
    "    adjacency_lists = read_arcs()\n",
    "    num_nodes = len(node_coords)\n",
    "    \n",
    "    time_start = time.monotonic()\n",
    "    landmark_distances = precalculate_landmark_distances(choose_landmarks(node_coords), adjacency_lists)\n",
    "    print('Precalculation done in {:.2} seconds.'.format(time.monotonic() - time_start))\n",
    "    \n",
    "    time_dijkstra = 0\n",
    "    time_a_star = 0\n",
    "    \n",
    "    num_tests = 100\n",
    "    for _ in range(num_tests):\n",
    "        node_from, node_to = randrange(num_nodes), randrange(num_nodes)\n",
    "        time_start = time.monotonic()\n",
    "        p_dijkstra, d_dijkstra = good_old_dijkstra(adjacency_lists, node_from, node_to)\n",
    "        time_dijkstra += time.monotonic()-time_start\n",
    "        time_start = time.monotonic()\n",
    "        p_a_star, d_a_star = a_star_with_landmarks(adjacency_lists, node_from,\n",
    "                                                   node_to, landmark_distances)\n",
    "        time_a_star += time.monotonic()-time_start\n",
    "        assert(d_dijkstra == d_a_star)\n",
    "    \n",
    "    print('Time elapsed in {} test: {:.2} second for A* vs. {:.2} seconds for Dijkstra.'.format(num_tests, time_a_star, time_dijkstra))"
   ]
  },
  {
   "cell_type": "code",
   "execution_count": 23,
   "metadata": {
    "collapsed": false,
    "deletable": true,
    "editable": true
   },
   "outputs": [
    {
     "name": "stdout",
     "output_type": "stream",
     "text": [
      "Precalculation done in 5.2e+01 seconds.\n",
      "Time elapsed in 100 test: 1e+02 second for A* vs. 1.9e+02 seconds for Dijkstra.\n"
     ]
    }
   ],
   "source": [
    "run_all()"
   ]
  }
 ],
 "metadata": {
  "kernelspec": {
   "display_name": "Python 3",
   "language": "python",
   "name": "python3"
  },
  "language_info": {
   "codemirror_mode": {
    "name": "ipython",
    "version": 3
   },
   "file_extension": ".py",
   "mimetype": "text/x-python",
   "name": "python",
   "nbconvert_exporter": "python",
   "pygments_lexer": "ipython3",
   "version": "3.5.2"
  }
 },
 "nbformat": 4,
 "nbformat_minor": 1
}
